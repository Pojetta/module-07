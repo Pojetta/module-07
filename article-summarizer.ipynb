{
 "cells": [
  {
   "cell_type": "markdown",
   "metadata": {},
   "source": [
    "# Web Mining and Applied NLP (44-620)\n",
    "\n",
    "## Final Project: Article Summarizer\n",
    "\n",
    "### Student Name: Joanna Farris\n",
    "\n",
    "GitHub repo: [https://github.com/Pojetta/module-07](https://github.com/Pojetta/module-07)\n",
    "\n",
    "Perform the tasks described in the Markdown cells below.  When you have completed the assignment make sure your code cells have all been run (and have output beneath them) and ensure you have committed and pushed ALL of your changes to your assignment repository.\n",
    "\n",
    "You should bring in code from previous assignments to help you answer the questions below.\n",
    "\n",
    "Every question that requires you to write code will have a code cell underneath it; you may either write your entire solution in that cell or write it in a python file (`.py`), then import and run the appropriate code to answer the question."
   ]
  },
  {
   "cell_type": "markdown",
   "metadata": {},
   "source": [
    "### Setup and register custom sentiment extensions"
   ]
  },
  {
   "cell_type": "code",
   "execution_count": 84,
   "metadata": {},
   "outputs": [],
   "source": [
    "import json  \n",
    "import pathlib  \n",
    "import pickle  \n",
    "from collections import Counter\n",
    "import numpy as np  \n",
    "  \n",
    "import requests  \n",
    "from bs4 import BeautifulSoup  \n",
    "import matplotlib.pyplot as plt  \n",
    "import spacy  \n",
    "from spacy.tokens import Doc  \n",
    "from spacytextblob.spacytextblob import SpacyTextBlob"
   ]
  },
  {
   "cell_type": "code",
   "execution_count": null,
   "metadata": {},
   "outputs": [],
   "source": [
    "nlp = spacy.load(\"en_core_web_sm\")  \n",
    "nlp.add_pipe(\"spacytextblob\")"
   ]
  },
  {
   "cell_type": "code",
   "execution_count": 86,
   "metadata": {},
   "outputs": [],
   "source": [
    "if not Doc.has_extension(\"polarity\"):  \n",
    "    Doc.set_extension(\"polarity\", getter=lambda doc: doc._.blob.sentiment.polarity)  \n",
    "  \n",
    "if not Doc.has_extension(\"subjectivity\"):  \n",
    "    Doc.set_extension(\"subjectivity\", getter=lambda doc: doc._.blob.sentiment.subjectivity)  \n",
    "  \n",
    "if not Doc.has_extension(\"assessments\"):  \n",
    "    Doc.set_extension(\"assessments\", getter=lambda doc: doc._.blob.sentiment_assessments.assessments)"
   ]
  },
  {
   "cell_type": "markdown",
   "metadata": {},
   "source": [
    "## Question 1\n",
    "Q: Find on the internet an article or blog post about a topic that interests you and you are able to get the text for using the technologies we have applied in the course.  Get the html for the article and store it in a file (which you must submit with your project)"
   ]
  },
  {
   "cell_type": "code",
   "execution_count": 87,
   "metadata": {},
   "outputs": [
    {
     "name": "stdout",
     "output_type": "stream",
     "text": [
      "Article: What is ChatGPT Doing and Why Does It Work?\n"
     ]
    }
   ],
   "source": [
    "# Fetch the article HTML from the web\n",
    "url = \"https://writings.stephenwolfram.com/2023/02/what-is-chatgpt-doing-and-why-does-it-work/\"\n",
    "response = requests.get(url)\n",
    "\n",
    "# Save the article HTML to a pickle file\n",
    "with open(\"chatgpt_article.pkl\", \"wb\") as f:\n",
    "    pickle.dump(response.text, f)\n",
    "\n",
    "print(\"Article: What is ChatGPT Doing and Why Does It Work?\")"
   ]
  },
  {
   "cell_type": "markdown",
   "metadata": {},
   "source": [
    "## Question 2\n",
    "Q: Read in your article's html source from the file you created in question 1 and do sentiment analysis on the article/post's text (use `.get_text()`).  Print the polarity score with an appropriate label.  Additionally print the number of sentences in the original article (with an appropriate label)"
   ]
  },
  {
   "cell_type": "code",
   "execution_count": 88,
   "metadata": {},
   "outputs": [
    {
     "name": "stdout",
     "output_type": "stream",
     "text": [
      "Polarity score of article: 0.096\n",
      "Number of sentences in article: 855\n"
     ]
    }
   ],
   "source": [
    "# Load the article HTML from the pickle file\n",
    "with open(\"chatgpt_article.pkl\", \"rb\") as f:\n",
    "    html = pickle.load(f)\n",
    "\n",
    "# Parse the HTML to extract the article text\n",
    "soup = BeautifulSoup(html, \"html.parser\")\n",
    "article_element = soup.find(\"div\", class_=\"post_content\")\n",
    "article_text = article_element.get_text(strip=True, separator=\"\\n\")\n",
    "\n",
    "# Load the article text into a trained spaCy pipeline\n",
    "doc = nlp(article_text)\n",
    "\n",
    "# Print sentiment polarity\n",
    "print(f\"Polarity score of article: {doc._.polarity:.3f}\")\n",
    "\n",
    "# Print number of sentences\n",
    "sentences = list(doc.sents)\n",
    "print(f\"Number of sentences in article: {len(sentences)}\")"
   ]
  },
  {
   "cell_type": "markdown",
   "metadata": {},
   "source": [
    "## Question 3\n",
    "Q: Load the article text into a trained `spaCy` pipeline, and determine the 5 most frequent tokens (converted to lower case).  Print the common tokens with an appropriate label.  Additionally, print the tokens their frequencies (with appropriate labels)"
   ]
  },
  {
   "cell_type": "code",
   "execution_count": null,
   "metadata": {},
   "outputs": [
    {
     "name": "stdout",
     "output_type": "stream",
     "text": [
      "Top 5 Most Common Tokens in Article:\n",
      "neural: 170\n",
      "net: 136\n",
      "chatgpt: 125\n",
      "like: 121\n",
      "language: 89\n"
     ]
    }
   ],
   "source": [
    "# Define filter\n",
    "def we_care_about(token):\n",
    "    return (\n",
    "        not token.is_space\n",
    "        and not token.is_punct\n",
    "        and not token.is_stop\n",
    "        and token.is_alpha\n",
    "        and len(token.text) > 2\n",
    "    )\n",
    "\n",
    "# Count tokens\n",
    "tokens = [token.text.lower() for token in doc if we_care_about(token)]\n",
    "token_freq = Counter(tokens)\n",
    "top_tokens = token_freq.most_common(5)\n",
    "\n",
    "# Print top 5 most common tokens\n",
    "print(\"Top 5 Most Common Tokens in Article:\")\n",
    "for word, count in top_tokens:\n",
    "    print(f\"{word}: {count}\")\n"
   ]
  },
  {
   "cell_type": "markdown",
   "metadata": {},
   "source": [
    "## Question 4\n",
    "Q: Load the article text into a trained `spaCy` pipeline, and determine the 5 most frequent lemmas (converted to lower case).  Print the common lemmas with an appropriate label.  Additionally, print the lemmas with their frequencies (with appropriate labels)."
   ]
  },
  {
   "cell_type": "code",
   "execution_count": 91,
   "metadata": {},
   "outputs": [
    {
     "name": "stdout",
     "output_type": "stream",
     "text": [
      "Top 5 Most Common Lemmas in Article:\n",
      "net: 180\n",
      "neural: 170\n",
      "chatgpt: 125\n",
      "like: 122\n",
      "word: 115\n"
     ]
    }
   ],
   "source": [
    "# Count lemmas\n",
    "lemmas = [token.lemma_.lower() for token in doc if we_care_about(token)]\n",
    "lemma_freq = Counter(lemmas)\n",
    "top_lemmas = lemma_freq.most_common(5)\n",
    "\n",
    "# Print top 5 most common tokens\n",
    "print(\"Top 5 Most Common Lemmas in Article:\")\n",
    "for word, count in top_lemmas:\n",
    "    print(f\"{word}: {count}\")\n"
   ]
  },
  {
   "cell_type": "markdown",
   "metadata": {},
   "source": [
    "## Question 5\n",
    "Q: Make a list containing the scores (using tokens) of every sentence in the article, and plot a histogram with appropriate titles and axis labels of the scores. From your histogram, what seems to be the most common range of scores (put the answer in a comment after your code)?"
   ]
  },
  {
   "cell_type": "code",
   "execution_count": 92,
   "metadata": {},
   "outputs": [
    {
     "data": {
      "image/png": "[encoded data removed]",
      "text/plain": [
       "<Figure size 1000x600 with 1 Axes>"
      ]
     },
     "metadata": {},
     "output_type": "display_data"
    }
   ],
   "source": [
    "# Function to score sentences based on token frequency\n",
    "def score_sentence_by_token(sentence, interesting_tokens):\n",
    "    tokens = [token.text.lower() for token in sentence if not token.is_space]\n",
    "    matches = [token for token in tokens if token in interesting_tokens]\n",
    "    return len(matches) / len(tokens) if tokens else 0\n",
    "\n",
    "# Create list of sentences using spaCy\n",
    "sentences = list(doc.sents)\n",
    "\n",
    "# Create list of sentence scores using tokens\n",
    "token_scores = [score_sentence_by_token(sent, [t for t, _ in top_tokens]) for sent in sentences]\n",
    "\n",
    "# Plot histogram\n",
    "plt.figure(figsize=(10, 6))\n",
    "plt.hist(token_scores, bins=20, color='#9e4b6c', edgecolor=\"#d3a6b8\")\n",
    "plt.title(\"Histogram of Sentence Scores Based on Token Frequency\")\n",
    "plt.xlabel(\"Score\")\n",
    "plt.ylabel(\"Number of Sentences\")\n",
    "plt.grid(axis='y', linestyle='--', alpha=0.7)\n",
    "plt.tight_layout()\n",
    "plt.show()\n",
    "\n",
    "# Most common range of scores appears to be between 0.0 and 0.1\n"
   ]
  },
  {
   "cell_type": "markdown",
   "metadata": {},
   "source": [
    "## Question 6\n",
    "Q: Make a list containing the scores (using lemmas) of every sentence in the article, and plot a histogram with appropriate titles and axis labels of the scores.  From your histogram, what seems to be the most common range of scores (put the answer in a comment after your code)?"
   ]
  },
  {
   "cell_type": "code",
   "execution_count": 93,
   "metadata": {},
   "outputs": [
    {
     "data": {
      "image/png": "[encoded data removed]",
      "text/plain": [
       "<Figure size 1000x600 with 1 Axes>"
      ]
     },
     "metadata": {},
     "output_type": "display_data"
    }
   ],
   "source": [
    "def score_sentence_by_lemma(sentence, interesting_lemmas):\n",
    "    lemmas = [token.lemma_.lower() for token in sentence if not token.is_space]\n",
    "    matches = [lemma for lemma in lemmas if lemma in interesting_lemmas]\n",
    "    return len(matches) / len(lemmas) if lemmas else 0\n",
    "\n",
    "# Create list of sentences using spaCy\n",
    "sentences = list(doc.sents)\n",
    "\n",
    "# Create list of sentence scores using lemmas\n",
    "lemma_scores = [score_sentence_by_lemma(sent, [t for t, _ in top_lemmas]) for sent in sentences]\n",
    "\n",
    "# Plot histogram\n",
    "plt.figure(figsize=(10, 6))\n",
    "plt.hist(lemma_scores, bins=20, color='#4b8d9e', edgecolor=\"#b7ced4\")\n",
    "plt.title(\"Histogram of Sentence Scores Based on Lemma Frequency\")\n",
    "plt.xlabel(\"Score\")\n",
    "plt.ylabel(\"Number of Sentences\")\n",
    "plt.grid(axis='y', linestyle='--', alpha=0.7)\n",
    "plt.tight_layout()\n",
    "plt.show()"
   ]
  },
  {
   "cell_type": "markdown",
   "metadata": {},
   "source": [
    "## Question 7\n",
    "Q: Using the histograms from questions 5 and 6, decide a \"cutoff\" score for tokens and lemmas such that fewer than half the sentences would have a score greater than the cutoff score.  Record the scores in this Markdown cell\n",
    "\n",
    "* Cutoff Score (tokens): 0.171\n",
    "* Cutoff Score (lemmas): 0.182\n",
    "\n",
    "Feel free to change these scores as you generate your summaries.  Ideally, we're shooting for at least 6 sentences for our summary, but don't want more than 10 (these numbers are rough estimates; they depend on the length of your article)."
   ]
  },
  {
   "cell_type": "code",
   "execution_count": 94,
   "metadata": {},
   "outputs": [
    {
     "name": "stdout",
     "output_type": "stream",
     "text": [
      "Cutoff Score (tokens): 0.188\n",
      "Cutoff Score (lemmas): 0.190\n",
      "Number of sentences: 8\n"
     ]
    }
   ],
   "source": [
    "# Calculate cutoff scores\n",
    "cutoff_token = np.percentile(token_scores, 99)\n",
    "cutoff_lemma = np.percentile(lemma_scores, 99)\n",
    "\n",
    "# Print cutoff scores\n",
    "print(f\"Cutoff Score (tokens): {cutoff_token:.3f}\")\n",
    "print(f\"Cutoff Score (lemmas): {cutoff_lemma:.3f}\")\n",
    "\n",
    "# Filter sentences based on cutoff scores\n",
    "summary_sents = [s for s, score in zip(sentences, token_scores) if score > cutoff_token]\n",
    "\n",
    "# Count filtered sentences\n",
    "print(\"Number of sentences:\", len(summary_sents))\n"
   ]
  },
  {
   "cell_type": "markdown",
   "metadata": {},
   "source": [
    "## Question 8\n",
    "Q: Create a summary of the article by going through every sentence in the article and adding it to an (initially) empty list if its score (based on tokens) is greater than the cutoff score you identified in question 8.  If your loop variable is named `sent`, you may find it easier to add `sent.text.strip()` to your list of sentences.  Print the summary (I would cleanly generate the summary text by `join`ing the strings in your list together with a space (`' '.join(sentence_list)`)."
   ]
  },
  {
   "cell_type": "code",
   "execution_count": 95,
   "metadata": {},
   "outputs": [
    {
     "name": "stdout",
     "output_type": "stream",
     "text": [
      "OK, but how does a neural net like this “recognize things”? What about for an (artificial) neural net? So how does neural net training actually work? How about something like ChatGPT? And then there’s the representation in the neural net of ChatGPT. But how can the neural net use that feedback? So what does this mean for things like ChatGPT and the syntax of a language like English? Then train a neural net to generate text that’s “like this”.\n"
     ]
    }
   ],
   "source": [
    "# Create an empty list to hold summary sentences\n",
    "token_summary_sentences = []\n",
    "\n",
    "# Loop through sentences and scores, adding only those above the cutoff\n",
    "for sent, score in zip(sentences, token_scores):\n",
    "    if score > cutoff_token:\n",
    "        token_summary_sentences.append(sent.text.strip())\n",
    "\n",
    "# Join the selected sentences into a single summary string\n",
    "token_summary = ' '.join(token_summary_sentences)\n",
    "\n",
    "# Print the summary\n",
    "print(token_summary)"
   ]
  },
  {
   "cell_type": "markdown",
   "metadata": {},
   "source": [
    "## Question 9\n",
    "Q: Print the polarity score of your summary you generated with the token scores (with an appropriate label). Additionally, print the number of sentences in the summarized article."
   ]
  },
  {
   "cell_type": "code",
   "execution_count": 96,
   "metadata": {},
   "outputs": [
    {
     "name": "stdout",
     "output_type": "stream",
     "text": [
      "Polarity score of token summary: -0.037\n",
      "Number of sentences in summary: 8\n"
     ]
    }
   ],
   "source": [
    "token_summary_doc = nlp(token_summary)\n",
    "print(f\"Polarity score of token summary: {token_summary_doc._.polarity:.3f}\")\n",
    "print(f\"Number of sentences in summary: {len(token_summary_sentences)}\")"
   ]
  },
  {
   "cell_type": "markdown",
   "metadata": {},
   "source": [
    "## Question 10 \n",
    "Q: Create a summary of the article by going through every sentence in the article and adding it to an (initially) empty list if its score (based on lemmas) is greater than the cutoff score you identified in question 8.  If your loop variable is named `sent`, you may find it easier to add `sent.text.strip()` to your list of sentences.  Print the summary (I would cleanly generate the summary text by `join`ing the strings in your list together with a space (`' '.join(sentence_list)`)."
   ]
  },
  {
   "cell_type": "code",
   "execution_count": 97,
   "metadata": {},
   "outputs": [
    {
     "name": "stdout",
     "output_type": "stream",
     "text": [
      "Lemma-Based Summary:\n",
      "OK, but how does a neural net like this “recognize things”? What about for an (artificial) neural net? So how does neural net training actually work? And current neural nets—with current approaches to neural net training— specifically deal with arrays of numbers . How about something like ChatGPT? But how does one actually implement something like this using neural nets? And then there’s the representation in the neural net of ChatGPT. But how can the neural net use that feedback? Then train a neural net to generate text that’s “like this”.\n"
     ]
    }
   ],
   "source": [
    "# Create an empty list to hold the lemma-based summary sentences\n",
    "lemma_summary_sentences = []\n",
    "\n",
    "# Loop through sentences and their lemma scores\n",
    "for sent, score in zip(sentences, lemma_scores):\n",
    "    if score > cutoff_lemma:\n",
    "        lemma_summary_sentences.append(sent.text.replace(\"\\n\", \" \").strip())\n",
    "\n",
    "# Join the selected sentences into one summary string\n",
    "lemma_summary = ' '.join(lemma_summary_sentences)\n",
    "\n",
    "# Print the summary\n",
    "print(\"Lemma-Based Summary:\")\n",
    "print(lemma_summary)"
   ]
  },
  {
   "cell_type": "markdown",
   "metadata": {},
   "source": [
    "## Question 11\n",
    "Q: Print the polarity score of your summary you generated with the lemma scores (with an appropriate label). Additionally, print the number of sentences in the summarized article."
   ]
  },
  {
   "cell_type": "code",
   "execution_count": 98,
   "metadata": {},
   "outputs": [
    {
     "name": "stdout",
     "output_type": "stream",
     "text": [
      "Polarity score of lemma summary: -0.008\n",
      "Number of sentences in summary: 9\n"
     ]
    }
   ],
   "source": [
    "lemma_summary_doc = nlp(lemma_summary)\n",
    "print(f\"Polarity score of lemma summary: {lemma_summary_doc._.polarity:.3f}\")\n",
    "print(f\"Number of sentences in summary: {len(lemma_summary_sentences)}\")"
   ]
  },
  {
   "cell_type": "markdown",
   "metadata": {},
   "source": [
    "## Question 12\n",
    "Q:  Compare your polarity scores of your summaries to the polarity scores of the initial article.  Is there a difference?  Why do you think that may or may not be?  Answer in this Markdown cell.  \n",
    "\n",
    "\n",
    "Polarity score of article: 0.096  \n",
    "Polarity score of token summary: -0.037  \n",
    "Polarity score of lemma summary: -0.008 \n",
    "\n",
    "There is a noticeable difference between the polarity of the full article and the polarity of the two summaries. The original article has a slightly positive sentiment overall, while both the token-based and lemma-based summaries are slightly negative.\n",
    "\n",
    "The summaries are made from just a small chunk of the full article. I'm not surprised that eight to nine sentences of mostly buzzwords fail to capture the overall sentiment of an 855 sentence article."
   ]
  },
  {
   "cell_type": "markdown",
   "metadata": {},
   "source": [
    "## Question 13\n",
    "Q: Based on your reading of the original article, which summary do you think is better (if there's a difference).  Why do you think this might be?  \n",
    "\n",
    "I think they’re equally bad. Honestly, they don’t tell you anything. They feel more like an extended version of the title than an actual summary of the article. "
   ]
  }
 ],
 "metadata": {
  "kernelspec": {
   "display_name": ".venv",
   "language": "python",
   "name": "python3"
  },
  "language_info": {
   "codemirror_mode": {
    "name": "ipython",
    "version": 3
   },
   "file_extension": ".py",
   "mimetype": "text/x-python",
   "name": "python",
   "nbconvert_exporter": "python",
   "pygments_lexer": "ipython3",
   "version": "3.13.5"
  }
 },
 "nbformat": 4,
 "nbformat_minor": 4
}
